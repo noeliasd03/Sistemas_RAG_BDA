{
 "cells": [
  {
   "cell_type": "markdown",
   "metadata": {},
   "source": [
    "### Importar librerías"
   ]
  },
  {
   "cell_type": "code",
   "execution_count": 3,
   "metadata": {},
   "outputs": [],
   "source": [
    "import tkinter as tk \n",
    "from tkinter import ttk \n",
    "import importlib.util"
   ]
  },
  {
   "cell_type": "markdown",
   "metadata": {},
   "source": [
    "### Crear la GUI"
   ]
  },
  {
   "cell_type": "code",
   "execution_count": 5,
   "metadata": {},
   "outputs": [],
   "source": [
    "# cargar el script del RAG\n",
    "spec = importlib.util.spec_from_file_location(\"script_RAG_web\", \"script_RAG_web.py\") \n",
    "script_RAG_web = importlib.util.module_from_spec(spec) \n",
    "spec.loader.exec_module(script_RAG_web)\n",
    "\n",
    "# crear la ventana principal\n",
    "ventana = tk.Tk()\n",
    "ventana.title(\"RAG Web - Interfaz Gráfica\")\n",
    "ventana.geometry(\"600x400\")\n",
    "\n",
    "# elementos de la GUI\n",
    "label_pregunta = ttk.Label(ventana, text=\"Pregunta:\")\n",
    "label_pregunta.pack(pady=10)\n",
    "entry_pregunta = ttk.Entry(ventana, width=80)\n",
    "entry_pregunta.pack(pady=10)\n",
    "text_respuesta = tk.Text(ventana, height=10, width=70)\n",
    "text_respuesta.pack(pady=10)\n",
    "boton_buscar = ttk.Button(ventana, text=\"Buscar\")\n",
    "\n",
    "# configuración de la función del botón directamente en la GUI\n",
    "def buscar(): \n",
    "    pregunta = entry_pregunta.get() \n",
    "    respuesta = script_RAG_web.cadena.invoke(pregunta) \n",
    "    text_respuesta.delete(\"1.0\", tk.END) \n",
    "    text_respuesta.insert(tk.END, respuesta) \n",
    "    \n",
    "boton_buscar.config(command=buscar) \n",
    "boton_buscar.pack(pady=10)\n",
    "\n",
    "# ejecutar la ventana principal\n",
    "ventana.mainloop()\n",
    "\n",
    "# Ejemplo de pregunta para la web:\n",
    "# How many Grand Prix were on the Championship?"
   ]
  }
 ],
 "metadata": {
  "kernelspec": {
   "display_name": "rag2",
   "language": "python",
   "name": "python3"
  },
  "language_info": {
   "codemirror_mode": {
    "name": "ipython",
    "version": 3
   },
   "file_extension": ".py",
   "mimetype": "text/x-python",
   "name": "python",
   "nbconvert_exporter": "python",
   "pygments_lexer": "ipython3",
   "version": "3.8.20"
  }
 },
 "nbformat": 4,
 "nbformat_minor": 2
}
