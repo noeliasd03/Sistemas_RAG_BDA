{
 "cells": [
  {
   "cell_type": "markdown",
   "metadata": {},
   "source": [
    "### Importar las librerías"
   ]
  },
  {
   "cell_type": "code",
   "execution_count": 9,
   "metadata": {},
   "outputs": [],
   "source": [
    "import os \n",
    "import re \n",
    "from PyPDF2 import PdfReader\n",
    "from sklearn.feature_extraction.text import ENGLISH_STOP_WORDS\n",
    "from transformers import AutoTokenizer\n",
    "from langchain_huggingface import HuggingFaceEmbeddings \n",
    "from langchain_chroma import Chroma\n",
    "from langchain_core.prompts import ChatPromptTemplate\n",
    "from langchain_core.output_parsers import StrOutputParser \n",
    "from langchain_ollama.llms import OllamaLLM \n",
    "from langchain_core.runnables import RunnablePassthrough"
   ]
  },
  {
   "cell_type": "markdown",
   "metadata": {},
   "source": [
    "### Extraer datos del pdf"
   ]
  },
  {
   "cell_type": "code",
   "execution_count": 10,
   "metadata": {},
   "outputs": [
    {
     "name": "stdout",
     "output_type": "stream",
     "text": [
      "Clima\n",
      "en\n",
      "A\n",
      "Coruña\n",
      "esta\n",
      "Semana\n",
      "Lunes,\n",
      "18\n",
      "de\n",
      "diciembre:\n",
      "●\n",
      "Temperatura\n",
      "máxima:\n",
      "16°C\n",
      "●\n",
      "Temperatura\n",
      "mínima:\n",
      "10°C\n",
      "●\n",
      "Probabilidad\n",
      "de\n",
      "lluvia:\n",
      "60%\n",
      "●\n",
      "Viento:\n",
      "13\n",
      "km/h\n",
      "Martes,\n",
      "19\n",
      "de\n",
      "diciembre:\n",
      "●\n",
      "Temperatura\n",
      "máxima:\n",
      "16°C\n",
      "●\n",
      "Temperatura\n",
      "mínima:\n",
      "9°C\n",
      "●\n",
      "Probabilidad\n",
      "de\n",
      "lluvia:\n",
      "90%\n",
      "●\n",
      "Viento:\n",
      "33\n",
      "km/h\n",
      "Miércoles,\n",
      "20\n",
      "de\n",
      "diciembre:\n",
      "●\n",
      "Temperatura\n",
      "máxima:\n",
      "18°C\n",
      "●\n",
      "Temperatura\n",
      "mínima:\n",
      "12°C\n",
      "●\n",
      "Probabilidad\n",
      "de\n",
      "lluvia:\n",
      "90%\n",
      "●\n",
      "Viento:\n",
      "34\n",
      "km/h\n",
      "Jueves,\n",
      "21\n",
      "de\n",
      "diciembre:\n",
      "●\n",
      "Temperatura\n",
      "máxima:\n",
      "17°C\n",
      "●\n",
      "Temperatura\n",
      "mínima:\n",
      "11°C\n",
      "●\n",
      "Probabilidad\n",
      "de\n",
      "lluvia:\n",
      "13%\n",
      "●\n",
      "Viento:\n",
      "9\n",
      "km/h\n",
      "Viernes,\n",
      "22\n",
      "de\n",
      "diciembre:\n",
      "●\n",
      "Temperatura\n",
      "máxima:\n",
      "14°C\n",
      "●\n",
      "Temperatura\n",
      "mínima:\n",
      "7°C\n",
      "●\n",
      "Probabilidad\n",
      "de\n",
      "lluvia:\n",
      "14%\n",
      "●\n",
      "Viento:\n",
      "25\n",
      "km/h\n",
      "Sábado,\n",
      "23\n",
      "de\n",
      "diciembre:\n",
      "●\n",
      "Temperatura\n",
      "máxima:\n",
      "15°C\n",
      "●\n",
      "Temperatura\n",
      "mínima:\n",
      "9°C\n",
      "●\n",
      "Probabilidad\n",
      "de\n",
      "lluvia:\n",
      "70%\n",
      "●\n",
      "Viento:\n",
      "10\n",
      "km/h\n",
      "Domingo,\n",
      "24\n",
      "de\n",
      "diciembre:\n",
      "●\n",
      "Temperatura\n",
      "máxima:\n",
      "15°C\n",
      "●\n",
      "Temperatura\n",
      "mínima:\n",
      "9°C\n",
      "●\n",
      "Probabilidad\n",
      "de\n",
      "lluvia:\n",
      "90%\n",
      "●\n",
      "Viento:\n",
      "16\n",
      "km/h\n"
     ]
    }
   ],
   "source": [
    "# abrir pdf\n",
    "with open(\"clima.pdf\", \"rb\") as file:\n",
    "    lector = PdfReader(file)\n",
    "    textos_pdf = [pagina.extract_text() for pagina in lector.pages]\n",
    "\n",
    "# previsualizar algunos textos\n",
    "for texto in textos_pdf[:5]:\n",
    "    print(texto)"
   ]
  },
  {
   "cell_type": "markdown",
   "metadata": {},
   "source": [
    "### Procesar el texto"
   ]
  },
  {
   "cell_type": "code",
   "execution_count": 11,
   "metadata": {},
   "outputs": [
    {
     "name": "stdout",
     "output_type": "stream",
     "text": [
      "['cl', '##ima', 'en', 'co', '##ru', '##a', 'est', '##a', 'se', '##mana', 'lu', '##nes', '18', 'di', '##cie', '##mbre', 'temper', '##at', '##ura', 'mx', '##ima', '16', '##c', 'temper', '##at', '##ura', 'mn', '##ima', '10', '##c', 'pro', '##ba', '##bil', '##idad', 'll', '##u', '##via', '60', 'vie', '##nto', '13', 'km', '##h', 'mart', '##es', '19', 'di', '##cie', '##mbre', 'temper', '##at', '##ura', 'mx', '##ima', '16', '##c', 'temper', '##at', '##ura', 'mn', '##ima', '9', '##c', 'pro', '##ba', '##bil', '##idad', 'll', '##u', '##via', '90', 'vie', '##nto', '33', 'km', '##h', 'mir', '##col', '##es', '20', 'di', '##cie', '##mbre', 'temper', '##at', '##ura', 'mx', '##ima', '18', '##c', 'temper', '##at', '##ura', 'mn', '##ima', '12', '##c', 'pro', '##ba', '##bil', '##idad', 'll', '##u', '##via', '90', 'vie', '##nto', '34', 'km', '##h', 'ju', '##eves', '21', 'di', '##cie', '##mbre', 'temper', '##at', '##ura', 'mx', '##ima', '17', '##c', 'temper', '##at', '##ura', 'mn', '##ima', '11', '##c', 'pro', '##ba', '##bil', '##idad', 'll', '##u', '##via', '13', 'vie', '##nto', '9', 'km', '##h', 'vie', '##rne', '##s', '22', 'di', '##cie', '##mbre', 'temper', '##at', '##ura', 'mx', '##ima', '14', '##c', 'temper', '##at', '##ura', 'mn', '##ima', '7', '##c', 'pro', '##ba', '##bil', '##idad', 'll', '##u', '##via', '14', 'vie', '##nto', '25', 'km', '##h', 'sb', '##ado', '23', 'di', '##cie', '##mbre', 'temper', '##at', '##ura', 'mx', '##ima', '15', '##c', 'temper', '##at', '##ura', 'mn', '##ima', '9', '##c', 'pro', '##ba', '##bil', '##idad', 'll', '##u', '##via', '70', 'vie', '##nto', '10', 'km', '##h', 'domingo', '24', 'di', '##cie', '##mbre', 'temper', '##at', '##ura', 'mx', '##ima', '15', '##c', 'temper', '##at', '##ura', 'mn', '##ima', '9', '##c', 'pro', '##ba', '##bil', '##idad', 'll', '##u', '##via', '90', 'vie', '##nto', '16', 'km', '##h']\n"
     ]
    }
   ],
   "source": [
    "tokenizer = AutoTokenizer.from_pretrained(\"bert-base-uncased\")\n",
    "\n",
    "# limpiar y normalizar los textos\n",
    "textos_limpios = [texto.strip() for texto in textos_pdf]\n",
    "textos_minusculas = [texto.lower() for texto in textos_limpios]\n",
    "textos_sin_caracteres_especiales = [re.sub(r'[^A-Za-z0-9\\s]', '', texto) for texto in textos_minusculas]\n",
    "textos_sin_stopwords = [' '.join([word for word in texto.split() if word not in ENGLISH_STOP_WORDS]) for texto in textos_sin_caracteres_especiales]\n",
    "textos_tokenizados = [tokenizer.tokenize(texto) for texto in textos_sin_stopwords]\n",
    "\n",
    "# previsualizar algunos textos \n",
    "for texto in textos_tokenizados[:5]:\n",
    "    print(texto)\n"
   ]
  },
  {
   "cell_type": "markdown",
   "metadata": {},
   "source": [
    "### Crear Vector Store"
   ]
  },
  {
   "cell_type": "code",
   "execution_count": 16,
   "metadata": {},
   "outputs": [],
   "source": [
    "embeddings = HuggingFaceEmbeddings(model_name=\"sentence-transformers/all-mpnet-base-v2\")\n",
    "\n",
    "vector_store = Chroma.from_texts(\n",
    "    texts=textos_limpios, \n",
    "    collection_name=\"pdf_data\", \n",
    "    embedding=embeddings, \n",
    "    persist_directory=\"./chroma_pdf_data\"\n",
    ")\n",
    "\n",
    "# crear el retriever\n",
    "recuperador = vector_store.as_retriever(search_kwargs={\"k\": 100})"
   ]
  },
  {
   "cell_type": "markdown",
   "metadata": {},
   "source": [
    "### Implementar el LLM\n",
    "Asegurarse que el docker de Ollama está funcionando con 'docker ps'"
   ]
  },
  {
   "cell_type": "code",
   "execution_count": 18,
   "metadata": {},
   "outputs": [
    {
     "name": "stderr",
     "output_type": "stream",
     "text": [
      "Number of requested results 100 is greater than number of elements in index 3, updating n_results = 3\n"
     ]
    },
    {
     "name": "stdout",
     "output_type": "stream",
     "text": [
      "La probabilidad de lluvia del lunes en el contexto es del 60%.\n"
     ]
    }
   ],
   "source": [
    "# definir la plantilla del prompt en español\n",
    "plantilla = \"\"\"Responde a la pregunta basándote únicamente en el siguiente contexto:\n",
    "{context}\n",
    "\n",
    "Pregunta: {question}\n",
    "\"\"\"\n",
    "prompt = ChatPromptTemplate.from_template(plantilla)\n",
    "\n",
    "# seleccionar el modelo \n",
    "modelo_local = OllamaLLM(model=\"gemma:2b\", base_url='http://localhost:11434')\n",
    "\n",
    "# crear la cadena RAG\n",
    "cadena = (\n",
    "    {\"context\": recuperador, \"question\": RunnablePassthrough()}\n",
    "    | prompt\n",
    "    | modelo_local\n",
    "    | StrOutputParser()\n",
    ")\n",
    "\n",
    "# hacer una pregunta de prueba \n",
    "respuesta = cadena.invoke(\"¿Cuál es la probabilidad de lluvia del lunes?\")\n",
    "print(respuesta)"
   ]
  }
 ],
 "metadata": {
  "kernelspec": {
   "display_name": "rag2",
   "language": "python",
   "name": "python3"
  },
  "language_info": {
   "codemirror_mode": {
    "name": "ipython",
    "version": 3
   },
   "file_extension": ".py",
   "mimetype": "text/x-python",
   "name": "python",
   "nbconvert_exporter": "python",
   "pygments_lexer": "ipython3",
   "version": "3.8.20"
  }
 },
 "nbformat": 4,
 "nbformat_minor": 2
}
