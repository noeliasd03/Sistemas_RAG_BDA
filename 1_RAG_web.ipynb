{
 "cells": [
  {
   "cell_type": "markdown",
   "metadata": {},
   "source": [
    "### Importar las librerías"
   ]
  },
  {
   "cell_type": "code",
   "execution_count": 76,
   "metadata": {},
   "outputs": [],
   "source": [
    "\n",
    "import requests\n",
    "from bs4 import BeautifulSoup\n",
    "import re\n",
    "from sklearn.feature_extraction.text import ENGLISH_STOP_WORDS\n",
    "from transformers import AutoTokenizer\n",
    "from langchain_huggingface import HuggingFaceEmbeddings \n",
    "import chromadb\n",
    "from langchain_chroma import Chroma\n",
    "import ollama\n",
    "from langchain_ollama.llms import OllamaLLM\n",
    "from langchain_core.runnables import RunnablePassthrough\n",
    "from langchain_core.prompts import ChatPromptTemplate\n",
    "from langchain_core.output_parsers import StrOutputParser\n"
   ]
  },
  {
   "cell_type": "markdown",
   "metadata": {},
   "source": [
    "### Scraping de la página web\n",
    "Usamos BeautifulSoup para hacer scraping y extraer los datos de la web."
   ]
  },
  {
   "cell_type": "code",
   "execution_count": 77,
   "metadata": {},
   "outputs": [
    {
     "name": "stdout",
     "output_type": "stream",
     "text": [
      "\n",
      "\n",
      "\n",
      "\n",
      "\n",
      "The 2024 FIA Formula One World Championship was a motor racing championship for Formula One cars and was the 75th running of the Formula One World Championship. It was recognised by the Fédération Internationale de l'Automobile (FIA), the governing body of international motorsport, as the highest class of competition for open-wheel racing cars. The championship was contested over a record twenty-four Grands Prix held around the world. It began in March and ended in December.\n",
      "\n",
      "Drivers and teams competed for the titles of World Drivers' Champion and World Constructors' Champion, respectively. Defending Drivers' Champion Max Verstappen started off the season with five wins in the first seven races, but was pressured by McLaren-Mercedes driver Lando Norris for the rest of the season after his RB20 fell behind Norris' MCL38 in terms of performance. Despite this, Verstappen performed consistently at the front of the field and won his fourth consecutive Drivers' Championship title at the Las Vegas Grand Prix,[1] while McLaren surpassed defending Constructors' Champions Red Bull Racing-Honda RBPT and achieved their ninth Constructors' Championship title at the Abu Dhabi Grand Prix.[2][3]\n",
      "\n",
      "The following constructors and drivers competed in the 2024 World Championship. All teams competed with tyres supplied by Pirelli.[4] Each team is required to enter at least two drivers, one for each of the two mandatory cars.[5]\n",
      "\n"
     ]
    }
   ],
   "source": [
    "url = \"https://en.wikipedia.org/wiki/2024_Formula_One_World_Championship\"\n",
    "\n",
    "# realizar solicitud http\n",
    "respuesta = requests.get(url)\n",
    "pagina = BeautifulSoup(respuesta.text, 'html.parser')\n",
    "\n",
    "# tokenizer\n",
    "tokenizer = AutoTokenizer.from_pretrained(\"bert-base-uncased\")\n",
    "\n",
    "# extraer textos de la página\n",
    "textos = [p.text for p in pagina.find_all('p')]\n",
    "\n",
    "# previsualizar algunos textos\n",
    "for texto in textos[:5]: \n",
    "    print(texto)"
   ]
  },
  {
   "cell_type": "markdown",
   "metadata": {},
   "source": [
    "### Procesar el texto\n",
    "Vamos a limpiar y normalizar los textos con algunas reglas como hacer todo el texto minúsculas, no añadir caracteres especiales, eliminar las stop words (el, la, y, etc.) y tokenizar el texto en palabras para facilitar el proceso."
   ]
  },
  {
   "cell_type": "code",
   "execution_count": 78,
   "metadata": {},
   "outputs": [
    {
     "name": "stdout",
     "output_type": "stream",
     "text": [
      "[]\n",
      "[]\n",
      "['202', '##4', 'fia', 'formula', 'world', 'championship', 'motor', 'racing', 'championship', 'formula', 'cars', '75th', 'running', 'formula', 'world', 'championship', 'recognised', 'f', '##dra', '##tion', 'internationale', 'lau', '##tom', '##ob', '##ile', 'fia', 'governing', 'body', 'international', 'motorsport', 'highest', 'class', 'competition', 'open', '##wheel', 'racing', 'cars', 'championship', 'contested', 'record', 'twenty', '##fo', '##ur', 'grand', '##s', 'prix', 'held', 'world', 'began', 'march', 'ended', 'december']\n",
      "['drivers', 'teams', 'competed', 'titles', 'world', 'drivers', 'champion', 'world', 'construct', '##ors', 'champion', 'respectively', 'defending', 'drivers', 'champion', 'max', 've', '##rst', '##app', '##en', 'started', 'season', 'wins', 'seven', 'races', 'pressured', 'mclaren', '##mer', '##cede', '##s', 'driver', 'land', '##o', 'norris', 'rest', 'season', 'rb', '##20', 'fell', 'norris', 'mc', '##l', '##38', 'terms', 'performance', 'despite', 've', '##rst', '##app', '##en', 'performed', 'consistently', 'field', 'won', 'fourth', 'consecutive', 'drivers', 'championship', 'title', 'las', 'vegas', 'grand', 'prix', '##1', 'mclaren', 'surpassed', 'defending', 'construct', '##ors', 'champions', 'red', 'bull', 'racing', '##hon', '##da', 'rb', '##pt', 'achieved', 'ninth', 'construct', '##ors', 'championship', 'title', 'abu', 'dhabi', 'grand', 'prix', '##23']\n",
      "['following', 'construct', '##ors', 'drivers', 'competed', '202', '##4', 'world', 'championship', 'teams', 'competed', 'tyres', 'supplied', 'pi', '##relli', '##4', 'team', 'required', 'enter', 'drivers', 'mandatory', 'cars', '##5']\n"
     ]
    }
   ],
   "source": [
    "textos_limpios = [texto.strip() for texto in textos]\n",
    "textos_minusculas = [texto.lower() for texto in textos_limpios]\n",
    "textos_sin_caracteres_especiales = [re.sub(r'[^A-Za-z0-9\\s]', '', texto) for texto in textos_minusculas]\n",
    "textos_sin_stopwords = [' '.join([word for word in texto.split() if word not in ENGLISH_STOP_WORDS]) for texto in textos_sin_caracteres_especiales]\n",
    "textos_tokenizados = [tokenizer.tokenize(texto) for texto in textos_sin_stopwords]\n",
    "\n",
    "# previsualizar algunos textos\n",
    "for texto in textos_tokenizados[:5]:\n",
    "    print(texto)"
   ]
  },
  {
   "cell_type": "markdown",
   "metadata": {},
   "source": [
    "### Crear Base de Datos Vectorial\n",
    "Usamos HuggingFace para generar los embeddings y almacenamos los vectores en una base de datos Chroma."
   ]
  },
  {
   "cell_type": "code",
   "execution_count": 79,
   "metadata": {},
   "outputs": [],
   "source": [
    "embeddings = HuggingFaceEmbeddings(model_name=\"sentence-transformers/all-mpnet-base-v2\")\n",
    "\n",
    "# base de datos vectorial\n",
    "vector_store = Chroma.from_texts(\n",
    "    texts=textos_limpios, \n",
    "    collection_name=\"web_data\", \n",
    "    embedding=embeddings, \n",
    "    persist_directory=\"./chroma_web_data\"\n",
    ")\n",
    "\n",
    "# crea el retriever\n",
    "recuperador = vector_store.as_retriever()"
   ]
  },
  {
   "cell_type": "markdown",
   "metadata": {},
   "source": [
    "### Implementación del LLM\n",
    "Asegurarse que el docker de Ollama está funcionando con 'docker ps'"
   ]
  },
  {
   "cell_type": "markdown",
   "metadata": {},
   "source": [
    "Para integrar el LLM usaremos LangChain y Ollama"
   ]
  },
  {
   "cell_type": "code",
   "execution_count": 83,
   "metadata": {},
   "outputs": [
    {
     "name": "stdout",
     "output_type": "stream",
     "text": [
      "The 2024 FIA Formula One World Championship consisted of 24 Grands Prix held around the world.\n"
     ]
    }
   ],
   "source": [
    "# definir la plantilla del prompt \n",
    "plantilla = \"\"\"Answer the question based only on the following context: \n",
    "{context} \n",
    "\n",
    "Question: {question} \n",
    "\"\"\" \n",
    "prompt = ChatPromptTemplate.from_template(plantilla) \n",
    "\n",
    "# seleccionar el modelo \n",
    "modelo_local = OllamaLLM(model=\"gemma:2b\", base_url='http://localhost:11434')\n",
    "\n",
    "# crear la cadena RAG\n",
    "cadena = ( \n",
    "    {\"context\": recuperador, \"question\": RunnablePassthrough()} \n",
    "    | prompt \n",
    "    | modelo_local \n",
    "    | StrOutputParser() \n",
    ")\n",
    "\n",
    "# hacer una pregunta de prueba \n",
    "respuesta = cadena.invoke(\"How many Grand Prix were on the Championship?\") \n",
    "print(respuesta)"
   ]
  }
 ],
 "metadata": {
  "kernelspec": {
   "display_name": "rag2",
   "language": "python",
   "name": "python3"
  },
  "language_info": {
   "codemirror_mode": {
    "name": "ipython",
    "version": 3
   },
   "file_extension": ".py",
   "mimetype": "text/x-python",
   "name": "python",
   "nbconvert_exporter": "python",
   "pygments_lexer": "ipython3",
   "version": "3.8.20"
  }
 },
 "nbformat": 4,
 "nbformat_minor": 2
}
